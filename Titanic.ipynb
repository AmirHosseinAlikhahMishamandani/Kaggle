{
  "nbformat": 4,
  "nbformat_minor": 0,
  "metadata": {
    "colab": {
      "provenance": [],
      "authorship_tag": "ABX9TyNzQfZ7BhPQKo5ZiIBkgHO+",
      "include_colab_link": true
    },
    "kernelspec": {
      "name": "python3",
      "display_name": "Python 3"
    },
    "language_info": {
      "name": "python"
    }
  },
  "cells": [
    {
      "cell_type": "markdown",
      "metadata": {
        "id": "view-in-github",
        "colab_type": "text"
      },
      "source": [
        "<a href=\"https://colab.research.google.com/github/AmirHosseinAlikhahMishamandani/Kaggle/blob/main/Titanic.ipynb\" target=\"_parent\"><img src=\"https://colab.research.google.com/assets/colab-badge.svg\" alt=\"Open In Colab\"/></a>"
      ]
    },
    {
      "cell_type": "markdown",
      "source": [
        "# Titanic - Machine Learning from Disaster"
      ],
      "metadata": {
        "id": "H8BrL2HKT_do"
      }
    },
    {
      "cell_type": "code",
      "source": [
        "import pandas as pd\n",
        "import numpy as np\n",
        "import matplotlib.pyplot as plt\n",
        "from sklearn.svm import SVC\n",
        "from sklearn.neural_network import MLPClassifier\n",
        "from sklearn.model_selection import train_test_split\n",
        "from sklearn.ensemble import RandomForestRegressor\n",
        "from sklearn.neighbors import KNeighborsClassifier\n",
        "from sklearn.ensemble import RandomForestClassifier\n",
        "from sklearn.ensemble import GradientBoostingClassifier\n",
        "from sklearn.linear_model import LogisticRegression\n",
        "from sklearn.ensemble import AdaBoostClassifier\n",
        "import xgboost as xgb\n",
        "from sklearn.metrics import mean_squared_error, r2_score, accuracy_score"
      ],
      "metadata": {
        "id": "ov5aJezBY7jx"
      },
      "execution_count": 362,
      "outputs": []
    },
    {
      "cell_type": "markdown",
      "source": [
        "## Data Collection\n",
        "\n",
        "\n",
        "Data from: https://www.kaggle.com/competitions/titanic"
      ],
      "metadata": {
        "id": "-4pmGH9QUVkg"
      }
    },
    {
      "cell_type": "markdown",
      "source": [
        "### Train Data"
      ],
      "metadata": {
        "id": "LGnNPiZ0Vpln"
      }
    },
    {
      "cell_type": "code",
      "source": [
        "Titanic_train = pd.read_csv('train.csv')"
      ],
      "metadata": {
        "id": "Wj-a5fKhUYqZ"
      },
      "execution_count": 307,
      "outputs": []
    },
    {
      "cell_type": "code",
      "source": [
        "print(Titanic_train.head())"
      ],
      "metadata": {
        "colab": {
          "base_uri": "https://localhost:8080/"
        },
        "id": "Zx9rsrdIVPlE",
        "outputId": "5b333998-1b21-4b07-a94c-70cc78ebbcdb"
      },
      "execution_count": 308,
      "outputs": [
        {
          "output_type": "stream",
          "name": "stdout",
          "text": [
            "   PassengerId  Survived  Pclass  \\\n",
            "0            1         0       3   \n",
            "1            2         1       1   \n",
            "2            3         1       3   \n",
            "3            4         1       1   \n",
            "4            5         0       3   \n",
            "\n",
            "                                                Name     Sex   Age  SibSp  \\\n",
            "0                            Braund, Mr. Owen Harris    male  22.0      1   \n",
            "1  Cumings, Mrs. John Bradley (Florence Briggs Th...  female  38.0      1   \n",
            "2                             Heikkinen, Miss. Laina  female  26.0      0   \n",
            "3       Futrelle, Mrs. Jacques Heath (Lily May Peel)  female  35.0      1   \n",
            "4                           Allen, Mr. William Henry    male  35.0      0   \n",
            "\n",
            "   Parch            Ticket     Fare Cabin Embarked  \n",
            "0      0         A/5 21171   7.2500   NaN        S  \n",
            "1      0          PC 17599  71.2833   C85        C  \n",
            "2      0  STON/O2. 3101282   7.9250   NaN        S  \n",
            "3      0            113803  53.1000  C123        S  \n",
            "4      0            373450   8.0500   NaN        S  \n"
          ]
        }
      ]
    },
    {
      "cell_type": "markdown",
      "source": [
        "### Test Data"
      ],
      "metadata": {
        "id": "ygsoipdnVskf"
      }
    },
    {
      "cell_type": "code",
      "source": [
        "Titanic_test = pd.read_csv('test.csv')"
      ],
      "metadata": {
        "id": "4ZBXta6wVuAb"
      },
      "execution_count": 309,
      "outputs": []
    },
    {
      "cell_type": "code",
      "source": [
        "print(Titanic_test.head())"
      ],
      "metadata": {
        "colab": {
          "base_uri": "https://localhost:8080/"
        },
        "id": "jmp6xN9CV0Qq",
        "outputId": "eeeae13e-6257-4c18-cc2a-df765c2426df"
      },
      "execution_count": 310,
      "outputs": [
        {
          "output_type": "stream",
          "name": "stdout",
          "text": [
            "   PassengerId  Pclass                                          Name     Sex  \\\n",
            "0          892       3                              Kelly, Mr. James    male   \n",
            "1          893       3              Wilkes, Mrs. James (Ellen Needs)  female   \n",
            "2          894       2                     Myles, Mr. Thomas Francis    male   \n",
            "3          895       3                              Wirz, Mr. Albert    male   \n",
            "4          896       3  Hirvonen, Mrs. Alexander (Helga E Lindqvist)  female   \n",
            "\n",
            "    Age  SibSp  Parch   Ticket     Fare Cabin Embarked  \n",
            "0  34.5      0      0   330911   7.8292   NaN        Q  \n",
            "1  47.0      1      0   363272   7.0000   NaN        S  \n",
            "2  62.0      0      0   240276   9.6875   NaN        Q  \n",
            "3  27.0      0      0   315154   8.6625   NaN        S  \n",
            "4  22.0      1      1  3101298  12.2875   NaN        S  \n"
          ]
        }
      ]
    },
    {
      "cell_type": "markdown",
      "source": [
        "## Data Pre-Processing"
      ],
      "metadata": {
        "id": "dN2wg_GXWPGG"
      }
    },
    {
      "cell_type": "code",
      "source": [
        "Titanic_train.drop(columns=['Ticket'], inplace=True)\n",
        "Titanic_train.drop(columns=['Name'], inplace=True)\n",
        "Titanic_train.drop(columns=['Cabin'], inplace=True)\n",
        "Titanic_train.drop(columns=['Fare'], inplace=True)\n",
        "Titanic_train.drop(columns=['Embarked'], inplace=True)\n",
        "Titanic_train['Sex'] = Titanic_train['Sex'].replace({'male': 1, 'female': 2})\n",
        "\n",
        "print(Titanic_train.head())"
      ],
      "metadata": {
        "colab": {
          "base_uri": "https://localhost:8080/"
        },
        "id": "09FjM35VWQ81",
        "outputId": "9b122b47-7105-494e-f0af-604db6b00001"
      },
      "execution_count": 311,
      "outputs": [
        {
          "output_type": "stream",
          "name": "stdout",
          "text": [
            "   PassengerId  Survived  Pclass  Sex   Age  SibSp  Parch\n",
            "0            1         0       3    1  22.0      1      0\n",
            "1            2         1       1    2  38.0      1      0\n",
            "2            3         1       3    2  26.0      0      0\n",
            "3            4         1       1    2  35.0      1      0\n",
            "4            5         0       3    1  35.0      0      0\n"
          ]
        }
      ]
    },
    {
      "cell_type": "code",
      "source": [
        "missing_values = Titanic_train.isnull().sum()\n",
        "\n",
        "print(missing_values)"
      ],
      "metadata": {
        "colab": {
          "base_uri": "https://localhost:8080/"
        },
        "id": "YvHRFYsDYH0b",
        "outputId": "a5ce0af8-99d4-46f9-cbaa-657c42362d42"
      },
      "execution_count": 312,
      "outputs": [
        {
          "output_type": "stream",
          "name": "stdout",
          "text": [
            "PassengerId      0\n",
            "Survived         0\n",
            "Pclass           0\n",
            "Sex              0\n",
            "Age            177\n",
            "SibSp            0\n",
            "Parch            0\n",
            "dtype: int64\n"
          ]
        }
      ]
    },
    {
      "cell_type": "code",
      "source": [
        "print(Titanic_train['Age'].dropna().unique())\n",
        "print('Max age:',Titanic_train['Age'].max(skipna=True))\n",
        "print('Min age:',Titanic_train['Age'].min(skipna=True))"
      ],
      "metadata": {
        "colab": {
          "base_uri": "https://localhost:8080/"
        },
        "id": "fMG3zzYlYzDv",
        "outputId": "3ebd9a6d-b137-44a5-a218-f8aeea219080"
      },
      "execution_count": 313,
      "outputs": [
        {
          "output_type": "stream",
          "name": "stdout",
          "text": [
            "[22.   38.   26.   35.   54.    2.   27.   14.    4.   58.   20.   39.\n",
            " 55.   31.   34.   15.   28.    8.   19.   40.   66.   42.   21.   18.\n",
            "  3.    7.   49.   29.   65.   28.5   5.   11.   45.   17.   32.   16.\n",
            " 25.    0.83 30.   33.   23.   24.   46.   59.   71.   37.   47.   14.5\n",
            " 70.5  32.5  12.    9.   36.5  51.   55.5  40.5  44.    1.   61.   56.\n",
            " 50.   36.   45.5  20.5  62.   41.   52.   63.   23.5   0.92 43.   60.\n",
            " 10.   64.   13.   48.    0.75 53.   57.   80.   70.   24.5   6.    0.67\n",
            " 30.5   0.42 34.5  74.  ]\n",
            "Max age: 80.0\n",
            "Min age: 0.42\n"
          ]
        }
      ]
    },
    {
      "cell_type": "code",
      "source": [
        "Titanic_test.drop(columns=['Ticket'], inplace=True)\n",
        "Titanic_test.drop(columns=['Name'], inplace=True)\n",
        "Titanic_test.drop(columns=['Cabin'], inplace=True)\n",
        "Titanic_test.drop(columns=['Fare'], inplace=True)\n",
        "Titanic_test.drop(columns=['Embarked'], inplace=True)\n",
        "Titanic_test['Sex'] = Titanic_test['Sex'].replace({'male': 1, 'female': 2})\n",
        "\n",
        "print(Titanic_test.head())"
      ],
      "metadata": {
        "colab": {
          "base_uri": "https://localhost:8080/"
        },
        "id": "uGTZSmW_W2tt",
        "outputId": "a6978a08-b81f-43c7-aca1-47b959461639"
      },
      "execution_count": 314,
      "outputs": [
        {
          "output_type": "stream",
          "name": "stdout",
          "text": [
            "   PassengerId  Pclass  Sex   Age  SibSp  Parch\n",
            "0          892       3    1  34.5      0      0\n",
            "1          893       3    2  47.0      1      0\n",
            "2          894       2    1  62.0      0      0\n",
            "3          895       3    1  27.0      0      0\n",
            "4          896       3    2  22.0      1      1\n"
          ]
        }
      ]
    },
    {
      "cell_type": "code",
      "source": [
        "missing_values = Titanic_test.isnull().sum()\n",
        "\n",
        "print(missing_values)"
      ],
      "metadata": {
        "colab": {
          "base_uri": "https://localhost:8080/"
        },
        "id": "9n5jm80oYTUe",
        "outputId": "b1c7c29b-1d04-40f0-f7c9-992d8d3d0c21"
      },
      "execution_count": 315,
      "outputs": [
        {
          "output_type": "stream",
          "name": "stdout",
          "text": [
            "PassengerId     0\n",
            "Pclass          0\n",
            "Sex             0\n",
            "Age            86\n",
            "SibSp           0\n",
            "Parch           0\n",
            "dtype: int64\n"
          ]
        }
      ]
    },
    {
      "cell_type": "code",
      "source": [
        "print(Titanic_test['Age'].dropna().unique())\n",
        "print('Max age:',Titanic_test['Age'].max(skipna=True))\n",
        "print('Min age:',Titanic_test['Age'].min(skipna=True))"
      ],
      "metadata": {
        "colab": {
          "base_uri": "https://localhost:8080/"
        },
        "id": "UB0Xc6b-dnZq",
        "outputId": "396da31d-b2bc-4f8e-9115-c645222fec3a"
      },
      "execution_count": 316,
      "outputs": [
        {
          "output_type": "stream",
          "name": "stdout",
          "text": [
            "[34.5  47.   62.   27.   22.   14.   30.   26.   18.   21.   46.   23.\n",
            " 63.   24.   35.   45.   55.    9.   48.   50.   22.5  41.   33.   18.5\n",
            " 25.   39.   60.   36.   20.   28.   10.   17.   32.   13.   31.   29.\n",
            " 28.5  32.5   6.   67.   49.    2.   76.   43.   16.    1.   12.   42.\n",
            " 53.   26.5  40.   61.   60.5   7.   15.   54.   64.   37.   34.   11.5\n",
            "  8.    0.33 38.   57.   40.5   0.92 19.   36.5   0.75  0.83 58.    0.17\n",
            " 59.   14.5  44.    5.   51.    3.   38.5 ]\n",
            "Max age: 76.0\n",
            "Min age: 0.17\n"
          ]
        }
      ]
    },
    {
      "cell_type": "markdown",
      "source": [
        "### Data Processing"
      ],
      "metadata": {
        "id": "ziwH8ZFXb0ss"
      }
    },
    {
      "cell_type": "markdown",
      "source": [
        "#### Normalizing: Age"
      ],
      "metadata": {
        "id": "-1jJPf8Dc639"
      }
    },
    {
      "cell_type": "code",
      "source": [
        "Titanic_train['Age'] = Titanic_train['Age'] / 100\n",
        "\n",
        "print(Titanic_train.head())"
      ],
      "metadata": {
        "colab": {
          "base_uri": "https://localhost:8080/"
        },
        "id": "6Q9dZYM_b4WH",
        "outputId": "2ba9557f-e8ae-4fa6-d5db-d5399fb491c2"
      },
      "execution_count": 317,
      "outputs": [
        {
          "output_type": "stream",
          "name": "stdout",
          "text": [
            "   PassengerId  Survived  Pclass  Sex   Age  SibSp  Parch\n",
            "0            1         0       3    1  0.22      1      0\n",
            "1            2         1       1    2  0.38      1      0\n",
            "2            3         1       3    2  0.26      0      0\n",
            "3            4         1       1    2  0.35      1      0\n",
            "4            5         0       3    1  0.35      0      0\n"
          ]
        }
      ]
    },
    {
      "cell_type": "code",
      "source": [
        "Titanic_test['Age'] = Titanic_test['Age'] / 100\n",
        "\n",
        "print(Titanic_test.head())"
      ],
      "metadata": {
        "colab": {
          "base_uri": "https://localhost:8080/"
        },
        "id": "nCOlcchUe8wZ",
        "outputId": "ccf366a9-4c93-408f-9986-eb5d49dea8ef"
      },
      "execution_count": 318,
      "outputs": [
        {
          "output_type": "stream",
          "name": "stdout",
          "text": [
            "   PassengerId  Pclass  Sex    Age  SibSp  Parch\n",
            "0          892       3    1  0.345      0      0\n",
            "1          893       3    2  0.470      1      0\n",
            "2          894       2    1  0.620      0      0\n",
            "3          895       3    1  0.270      0      0\n",
            "4          896       3    2  0.220      1      1\n"
          ]
        }
      ]
    },
    {
      "cell_type": "markdown",
      "source": [
        "#### filling: Age"
      ],
      "metadata": {
        "id": "M9lDLVW8fdhV"
      }
    },
    {
      "cell_type": "code",
      "source": [
        "data = Titanic_train.dropna()\n",
        "print(data.head())"
      ],
      "metadata": {
        "colab": {
          "base_uri": "https://localhost:8080/"
        },
        "id": "Nuco4a_AffQZ",
        "outputId": "e961e045-d861-49c1-9fb9-7df8d3b6d9c3"
      },
      "execution_count": 319,
      "outputs": [
        {
          "output_type": "stream",
          "name": "stdout",
          "text": [
            "   PassengerId  Survived  Pclass  Sex   Age  SibSp  Parch\n",
            "0            1         0       3    1  0.22      1      0\n",
            "1            2         1       1    2  0.38      1      0\n",
            "2            3         1       3    2  0.26      0      0\n",
            "3            4         1       1    2  0.35      1      0\n",
            "4            5         0       3    1  0.35      0      0\n"
          ]
        }
      ]
    },
    {
      "cell_type": "code",
      "source": [
        "X = data.drop(['Age','PassengerId','Survived'], axis=1)\n",
        "print(X.head())"
      ],
      "metadata": {
        "colab": {
          "base_uri": "https://localhost:8080/"
        },
        "id": "xzbYVnofgHDo",
        "outputId": "6f53a319-407f-4ce6-ad90-fcf720700728"
      },
      "execution_count": 320,
      "outputs": [
        {
          "output_type": "stream",
          "name": "stdout",
          "text": [
            "   Pclass  Sex  SibSp  Parch\n",
            "0       3    1      1      0\n",
            "1       1    2      1      0\n",
            "2       3    2      0      0\n",
            "3       1    2      1      0\n",
            "4       3    1      0      0\n"
          ]
        }
      ]
    },
    {
      "cell_type": "code",
      "source": [
        "y = data['Age']  # Target variable\n",
        "print(y.head())"
      ],
      "metadata": {
        "colab": {
          "base_uri": "https://localhost:8080/"
        },
        "id": "WqPCGQi-gJV7",
        "outputId": "48c5fdd8-7a0b-49cf-fbf0-58d0006b870e"
      },
      "execution_count": 321,
      "outputs": [
        {
          "output_type": "stream",
          "name": "stdout",
          "text": [
            "0    0.22\n",
            "1    0.38\n",
            "2    0.26\n",
            "3    0.35\n",
            "4    0.35\n",
            "Name: Age, dtype: float64\n"
          ]
        }
      ]
    },
    {
      "cell_type": "code",
      "source": [
        "feature_names = ['Pclass', 'Sex', 'SibSp', 'Parch']\n",
        "\n",
        "X_train, X_test, y_train, y_test = train_test_split(X, y, test_size=0.2, random_state=42)\n",
        "\n",
        "model = RandomForestRegressor(n_estimators=100, max_depth=10, min_samples_split=50, bootstrap=False)\n",
        "model.fit(X_train[feature_names], y_train)\n",
        "\n",
        "y_pred = model.predict(X_test[feature_names])\n",
        "\n",
        "mse = mean_squared_error(y_test, y_pred)\n",
        "r2 = r2_score(y_test, y_pred)\n",
        "print(\"Mean Squared Error:\", mse)\n",
        "print(\"R-squared:\", r2)"
      ],
      "metadata": {
        "colab": {
          "base_uri": "https://localhost:8080/"
        },
        "id": "c-Htvkk8gSAJ",
        "outputId": "7de9dea0-5475-4445-f668-652905e5513c"
      },
      "execution_count": 322,
      "outputs": [
        {
          "output_type": "stream",
          "name": "stdout",
          "text": [
            "Mean Squared Error: 0.01285042413450613\n",
            "R-squared: 0.3068968186062495\n"
          ]
        }
      ]
    },
    {
      "cell_type": "code",
      "source": [
        "for index, age in enumerate(Titanic_train['Age']):\n",
        "    if np.isnan(age):\n",
        "        features = Titanic_train.loc[index, feature_names].values.reshape(1, -1)\n",
        "        predicted_age = model.predict(features)\n",
        "        Titanic_train.at[index, 'Age'] = predicted_age\n",
        "\n",
        "missing_values = Titanic_train.isnull().sum()\n",
        "print(missing_values)"
      ],
      "metadata": {
        "id": "2qu4N4xhirMe"
      },
      "execution_count": null,
      "outputs": []
    },
    {
      "cell_type": "code",
      "source": [
        "for index, age in enumerate(Titanic_test['Age']):\n",
        "    if np.isnan(age):\n",
        "        features = Titanic_test.loc[index, feature_names].values.reshape(1, -1)\n",
        "        predicted_age = model.predict(features)\n",
        "        Titanic_test.at[index, 'Age'] = predicted_age\n",
        "\n",
        "missing_values = Titanic_test.isnull().sum()\n",
        "print(missing_values)"
      ],
      "metadata": {
        "id": "k_Eq831KiV7k"
      },
      "execution_count": null,
      "outputs": []
    },
    {
      "cell_type": "markdown",
      "source": [
        "## Let's see who survived!"
      ],
      "metadata": {
        "id": "lMxM9iSukBuc"
      }
    },
    {
      "cell_type": "code",
      "source": [
        "print(Titanic_train.head())"
      ],
      "metadata": {
        "colab": {
          "base_uri": "https://localhost:8080/"
        },
        "id": "tGL9U-54kijd",
        "outputId": "871c3503-a532-4195-d4dc-8528e8bbc3b6"
      },
      "execution_count": 325,
      "outputs": [
        {
          "output_type": "stream",
          "name": "stdout",
          "text": [
            "   PassengerId  Survived  Pclass  Sex   Age  SibSp  Parch\n",
            "0            1         0       3    1  0.22      1      0\n",
            "1            2         1       1    2  0.38      1      0\n",
            "2            3         1       3    2  0.26      0      0\n",
            "3            4         1       1    2  0.35      1      0\n",
            "4            5         0       3    1  0.35      0      0\n"
          ]
        }
      ]
    },
    {
      "cell_type": "code",
      "source": [
        "print(Titanic_test.head())"
      ],
      "metadata": {
        "colab": {
          "base_uri": "https://localhost:8080/"
        },
        "id": "al6ywgV3ko4o",
        "outputId": "51523861-1515-48bb-e9e4-3f3e101d26aa"
      },
      "execution_count": 326,
      "outputs": [
        {
          "output_type": "stream",
          "name": "stdout",
          "text": [
            "   PassengerId  Pclass  Sex    Age  SibSp  Parch\n",
            "0          892       3    1  0.345      0      0\n",
            "1          893       3    2  0.470      1      0\n",
            "2          894       2    1  0.620      0      0\n",
            "3          895       3    1  0.270      0      0\n",
            "4          896       3    2  0.220      1      1\n"
          ]
        }
      ]
    },
    {
      "cell_type": "code",
      "source": [
        "X = Titanic_train[['Pclass', 'Sex', 'Age', 'SibSp', 'Parch']]\n",
        "y = Titanic_train['Survived']\n",
        "\n",
        "X_train, X_test, y_train, y_test = train_test_split(X, y, test_size=0.2, random_state=42)"
      ],
      "metadata": {
        "id": "TKskmDUJqeD0"
      },
      "execution_count": null,
      "outputs": []
    },
    {
      "cell_type": "markdown",
      "source": [
        "### KNN"
      ],
      "metadata": {
        "id": "cm7bSyposFzB"
      }
    },
    {
      "cell_type": "code",
      "source": [
        "knn = KNeighborsClassifier()\n",
        "knn.fit(X_train, y_train)\n",
        "\n",
        "y_pred = knn.predict(X_test)\n",
        "accuracy = accuracy_score(y_test, y_pred)\n",
        "print(\"Accuracy:\", accuracy)"
      ],
      "metadata": {
        "colab": {
          "base_uri": "https://localhost:8080/"
        },
        "id": "jY5Kd04lsUxH",
        "outputId": "3eea9420-42ee-43b5-9ddc-4cc5f58b4967"
      },
      "execution_count": 408,
      "outputs": [
        {
          "output_type": "stream",
          "name": "stdout",
          "text": [
            "Accuracy: 0.8044692737430168\n"
          ]
        }
      ]
    },
    {
      "cell_type": "markdown",
      "source": [
        "### SVM"
      ],
      "metadata": {
        "id": "47GjJ5BMsHHq"
      }
    },
    {
      "cell_type": "code",
      "source": [
        "svm = SVC(kernel='rbf',gamma=0.5)\n",
        "svm.fit(X_train, y_train)\n",
        "\n",
        "y_pred = svm.predict(X_test)\n",
        "accuracy = accuracy_score(y_test, y_pred)\n",
        "print(\"Accuracy:\", accuracy)"
      ],
      "metadata": {
        "colab": {
          "base_uri": "https://localhost:8080/"
        },
        "id": "Frhtk7owsIc4",
        "outputId": "83926ce7-3a1e-4170-bd52-1ffd00df4f2e"
      },
      "execution_count": 409,
      "outputs": [
        {
          "output_type": "stream",
          "name": "stdout",
          "text": [
            "Accuracy: 0.8044692737430168\n"
          ]
        }
      ]
    },
    {
      "cell_type": "markdown",
      "source": [
        "### Logistic Regression"
      ],
      "metadata": {
        "id": "zt7VRhR4wtAB"
      }
    },
    {
      "cell_type": "code",
      "source": [
        "LR = LogisticRegression()\n",
        "LR.fit(X_train, y_train)\n",
        "\n",
        "y_pred = LR.predict(X_test)\n",
        "accuracy = accuracy_score(y_test, y_pred)\n",
        "print(\"Accuracy:\", accuracy)"
      ],
      "metadata": {
        "colab": {
          "base_uri": "https://localhost:8080/"
        },
        "id": "1FPmJyOewA1P",
        "outputId": "db2af8bb-f64b-4b38-8c2f-cf1deece4f5d"
      },
      "execution_count": 410,
      "outputs": [
        {
          "output_type": "stream",
          "name": "stdout",
          "text": [
            "Accuracy: 0.7988826815642458\n"
          ]
        }
      ]
    },
    {
      "cell_type": "markdown",
      "source": [
        "### Ada Boost Classifier"
      ],
      "metadata": {
        "id": "tSI4_ZsTwpt5"
      }
    },
    {
      "cell_type": "code",
      "source": [
        "ABC = AdaBoostClassifier()\n",
        "ABC.fit(X_train, y_train)\n",
        "\n",
        "y_pred = ABC.predict(X_test)\n",
        "accuracy = accuracy_score(y_test, y_pred)\n",
        "print(\"Accuracy:\", accuracy)"
      ],
      "metadata": {
        "colab": {
          "base_uri": "https://localhost:8080/"
        },
        "id": "kn_RPXCgwIap",
        "outputId": "96b78ccf-3aab-4e7b-a561-511c31556ef7"
      },
      "execution_count": 411,
      "outputs": [
        {
          "output_type": "stream",
          "name": "stdout",
          "text": [
            "Accuracy: 0.8100558659217877\n"
          ]
        }
      ]
    },
    {
      "cell_type": "markdown",
      "source": [
        "### Multi-layer Perceptron"
      ],
      "metadata": {
        "id": "cnYqMAhCtYdF"
      }
    },
    {
      "cell_type": "code",
      "source": [
        "mlp = MLPClassifier(hidden_layer_sizes=(100,50), activation='relu', solver='adam', max_iter=1000, random_state=42)\n",
        "mlp.fit(X_train, y_train)\n",
        "\n",
        "y_pred = mlp.predict(X_test)\n",
        "accuracy = accuracy_score(y_test, y_pred)\n",
        "print(\"Accuracy:\", accuracy)"
      ],
      "metadata": {
        "colab": {
          "base_uri": "https://localhost:8080/"
        },
        "id": "mVs-AMKftZml",
        "outputId": "92f4e2a5-b301-4de0-befe-37da7032f868"
      },
      "execution_count": 412,
      "outputs": [
        {
          "output_type": "stream",
          "name": "stdout",
          "text": [
            "Accuracy: 0.8212290502793296\n"
          ]
        }
      ]
    },
    {
      "cell_type": "markdown",
      "source": [
        "### Random Forest Classifier"
      ],
      "metadata": {
        "id": "UWRSWQV0wnX3"
      }
    },
    {
      "cell_type": "code",
      "source": [
        "RFC = RandomForestClassifier()\n",
        "RFC.fit(X_train, y_train)\n",
        "\n",
        "y_pred = RFC.predict(X_test)\n",
        "accuracy = accuracy_score(y_test, y_pred)\n",
        "print(\"Accuracy:\", accuracy)"
      ],
      "metadata": {
        "colab": {
          "base_uri": "https://localhost:8080/"
        },
        "id": "6UiO1IfQvEfi",
        "outputId": "69792967-5178-4b32-bc8c-ebc7816a058c"
      },
      "execution_count": 413,
      "outputs": [
        {
          "output_type": "stream",
          "name": "stdout",
          "text": [
            "Accuracy: 0.8156424581005587\n"
          ]
        }
      ]
    },
    {
      "cell_type": "markdown",
      "source": [
        "### Gradient Boosting"
      ],
      "metadata": {
        "id": "gs4w61BFwlIK"
      }
    },
    {
      "cell_type": "code",
      "source": [
        "GBC = GradientBoostingClassifier()\n",
        "GBC.fit(X_train, y_train)\n",
        "\n",
        "y_pred = GBC.predict(X_test)\n",
        "accuracy = accuracy_score(y_test, y_pred)\n",
        "print(\"Accuracy:\", accuracy)"
      ],
      "metadata": {
        "colab": {
          "base_uri": "https://localhost:8080/"
        },
        "id": "M9hTSUt4vnJy",
        "outputId": "75ceacce-e423-4b09-a4fe-2d1e41518184"
      },
      "execution_count": 414,
      "outputs": [
        {
          "output_type": "stream",
          "name": "stdout",
          "text": [
            "Accuracy: 0.8268156424581006\n"
          ]
        }
      ]
    },
    {
      "cell_type": "markdown",
      "source": [
        "### Extreme Gradient Boosting"
      ],
      "metadata": {
        "id": "k6dTSRgBwcV5"
      }
    },
    {
      "cell_type": "code",
      "source": [
        "xgbc = xgb.XGBClassifier()\n",
        "xgbc.fit(X_train, y_train)\n",
        "\n",
        "y_pred = xgbc.predict(X_test)\n",
        "accuracy = accuracy_score(y_test, y_pred)\n",
        "print(\"Accuracy:\", accuracy)"
      ],
      "metadata": {
        "colab": {
          "base_uri": "https://localhost:8080/"
        },
        "id": "D8KYQSUBwMN3",
        "outputId": "638012fc-822a-4f2d-bb94-6bf1c36d3cf1"
      },
      "execution_count": 415,
      "outputs": [
        {
          "output_type": "stream",
          "name": "stdout",
          "text": [
            "Accuracy: 0.8324022346368715\n"
          ]
        }
      ]
    },
    {
      "cell_type": "markdown",
      "source": [
        "## Result"
      ],
      "metadata": {
        "id": "Ulbr0mk40L-D"
      }
    },
    {
      "cell_type": "code",
      "source": [
        "X = Titanic_test.drop(columns=['PassengerId'])\n",
        "\n",
        "predictions_df = pd.DataFrame(columns=['PassengerId', 'Survived'])\n",
        "\n",
        "passenger_ids = []\n",
        "predictions = []\n",
        "\n",
        "for index, row in Titanic_test.iterrows():\n",
        "    features = row.drop('PassengerId').values.reshape(1, -1)  # Reshape to fit the classifier input format\n",
        "\n",
        "    prediction = xgbc.predict(features)[0]  # Assuming binary classification\n",
        "\n",
        "    passenger_ids.append(row['PassengerId'])\n",
        "    predictions.append(prediction)\n",
        "\n",
        "predictions_df = pd.DataFrame({'PassengerId': passenger_ids, 'Survived': predictions})\n",
        "\n",
        "predictions_df['PassengerId'] = predictions_df['PassengerId'].astype(int)\n",
        "predictions_df['Survived'] = predictions_df['Survived'].astype(int)\n",
        "\n",
        "print(predictions_df.head())\n",
        "\n",
        "predictions_df.to_csv('predictions.csv', index=False)"
      ],
      "metadata": {
        "colab": {
          "base_uri": "https://localhost:8080/"
        },
        "id": "lF5zOG6E0NN_",
        "outputId": "825e6af3-8f19-4450-dd35-1e910aa299f3"
      },
      "execution_count": 424,
      "outputs": [
        {
          "output_type": "stream",
          "name": "stdout",
          "text": [
            "   PassengerId  Survived\n",
            "0          892         0\n",
            "1          893         0\n",
            "2          894         0\n",
            "3          895         1\n",
            "4          896         1\n"
          ]
        }
      ]
    }
  ]
}